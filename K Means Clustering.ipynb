{
 "cells": [
  {
   "cell_type": "code",
   "execution_count": 3,
   "id": "662d562c",
   "metadata": {},
   "outputs": [],
   "source": [
    "from sklearn.cluster import KMeans\n",
    "import numpy as np"
   ]
  },
  {
   "cell_type": "code",
   "execution_count": 5,
   "id": "0d5641be",
   "metadata": {},
   "outputs": [],
   "source": [
    "# Lets take the input points in form of array\n",
    "X = np.array([[1,2],[1,4],[1,0],[10,2],[10,4],[10,0]])"
   ]
  },
  {
   "cell_type": "code",
   "execution_count": 6,
   "id": "e1fef43a",
   "metadata": {},
   "outputs": [
    {
     "data": {
      "text/plain": [
       "array([[ 1,  2],\n",
       "       [ 1,  4],\n",
       "       [ 1,  0],\n",
       "       [10,  2],\n",
       "       [10,  4],\n",
       "       [10,  0]])"
      ]
     },
     "execution_count": 6,
     "metadata": {},
     "output_type": "execute_result"
    }
   ],
   "source": [
    "X"
   ]
  },
  {
   "cell_type": "code",
   "execution_count": 19,
   "id": "22d37b94",
   "metadata": {},
   "outputs": [],
   "source": [
    "# create the Cluster models with 2 clusters\n",
    "\n",
    "kmeans = KMeans(n_clusters=2, random_state=0)"
   ]
  },
  {
   "cell_type": "code",
   "execution_count": 20,
   "id": "b4adeb9c",
   "metadata": {},
   "outputs": [
    {
     "data": {
      "text/plain": [
       "KMeans(n_clusters=2, random_state=0)"
      ]
     },
     "execution_count": 20,
     "metadata": {},
     "output_type": "execute_result"
    }
   ],
   "source": [
    "# Fit the input data in the Kmeans Clusters\n",
    "\n",
    "kmeans.fit(X)"
   ]
  },
  {
   "cell_type": "code",
   "execution_count": 22,
   "id": "dc9be3ad",
   "metadata": {},
   "outputs": [
    {
     "data": {
      "text/plain": [
       "array([1, 1, 1, 0, 0, 0])"
      ]
     },
     "execution_count": 22,
     "metadata": {},
     "output_type": "execute_result"
    }
   ],
   "source": [
    "# Checking the labels of the Kmeans clusters\n",
    "\n",
    "kmeans.labels_"
   ]
  },
  {
   "cell_type": "markdown",
   "id": "0906c9ac",
   "metadata": {},
   "source": [
    "# There are 2 clusters 1 and 0\n",
    "    First 3 points belongs to Clusters 1\n",
    "    Next 3 points belongs to Clusters 0 "
   ]
  },
  {
   "cell_type": "code",
   "execution_count": 11,
   "id": "22279252",
   "metadata": {},
   "outputs": [],
   "source": [
    "predict_point = np.array([[0,0],[12,3]])"
   ]
  },
  {
   "cell_type": "code",
   "execution_count": 12,
   "id": "3853b19b",
   "metadata": {},
   "outputs": [
    {
     "data": {
      "text/plain": [
       "array([1, 0])"
      ]
     },
     "execution_count": 12,
     "metadata": {},
     "output_type": "execute_result"
    }
   ],
   "source": [
    "kmeans.predict(predict_point)"
   ]
  },
  {
   "cell_type": "markdown",
   "id": "b434bba0",
   "metadata": {},
   "source": [
    "# Prediction for the 2 points  \n",
    "    Point1 (0,0) belongs to Clusters 1\n",
    "    Point2 (12,3) belongs to Clusters 0"
   ]
  },
  {
   "cell_type": "code",
   "execution_count": 18,
   "id": "f3d81dae",
   "metadata": {},
   "outputs": [
    {
     "data": {
      "text/plain": [
       "array([[10.,  2.],\n",
       "       [ 1.,  2.]])"
      ]
     },
     "execution_count": 18,
     "metadata": {},
     "output_type": "execute_result"
    }
   ],
   "source": [
    "kmeans.cluster_centers_"
   ]
  },
  {
   "cell_type": "markdown",
   "id": "409ab2a6",
   "metadata": {},
   "source": [
    "# Cluster Centre or the Centroid\n",
    "    Point(10,2) is the Centroid for Cluster 0\n",
    "    Point(1,2) is the centroid of Clusters 1"
   ]
  }
 ],
 "metadata": {
  "kernelspec": {
   "display_name": "Python 3 (ipykernel)",
   "language": "python",
   "name": "python3"
  },
  "language_info": {
   "codemirror_mode": {
    "name": "ipython",
    "version": 3
   },
   "file_extension": ".py",
   "mimetype": "text/x-python",
   "name": "python",
   "nbconvert_exporter": "python",
   "pygments_lexer": "ipython3",
   "version": "3.9.7"
  }
 },
 "nbformat": 4,
 "nbformat_minor": 5
}
